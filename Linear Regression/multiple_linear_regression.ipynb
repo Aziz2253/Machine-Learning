{
 "cells": [
  {
   "cell_type": "code",
   "execution_count": 3,
   "metadata": {},
   "outputs": [
    {
     "name": "stdout",
     "output_type": "stream",
     "text": [
      "Completed\n"
     ]
    }
   ],
   "source": [
    "import numpy as np\n",
    "import pandas as pd\n",
    "import matplotlib.pyplot as plt\n",
    "import seaborn as sns\n",
    "\n",
    "# tüm veriyi float biçimde göstermesi için : 9.22 gibi\n",
    "pd.set_option('display.float_format', lambda x:'%.2f' % x)\n",
    "\n",
    "from sklearn.linear_model import LinearRegression\n",
    "from sklearn.metrics import mean_squared_error,mean_absolute_error, r2_score\n",
    "from sklearn.model_selection import train_test_split,cross_val_score\n",
    "\n",
    "print(\"Completed\")"
   ]
  },
  {
   "cell_type": "code",
   "execution_count": 2,
   "metadata": {},
   "outputs": [
    {
     "data": {
      "text/html": [
       "<div>\n",
       "<style scoped>\n",
       "    .dataframe tbody tr th:only-of-type {\n",
       "        vertical-align: middle;\n",
       "    }\n",
       "\n",
       "    .dataframe tbody tr th {\n",
       "        vertical-align: top;\n",
       "    }\n",
       "\n",
       "    .dataframe thead th {\n",
       "        text-align: right;\n",
       "    }\n",
       "</style>\n",
       "<table border=\"1\" class=\"dataframe\">\n",
       "  <thead>\n",
       "    <tr style=\"text-align: right;\">\n",
       "      <th></th>\n",
       "      <th>TV</th>\n",
       "      <th>Radio</th>\n",
       "      <th>Newspaper</th>\n",
       "      <th>Sales</th>\n",
       "    </tr>\n",
       "  </thead>\n",
       "  <tbody>\n",
       "    <tr>\n",
       "      <th>0</th>\n",
       "      <td>230.10</td>\n",
       "      <td>37.80</td>\n",
       "      <td>69.20</td>\n",
       "      <td>22.10</td>\n",
       "    </tr>\n",
       "    <tr>\n",
       "      <th>1</th>\n",
       "      <td>44.50</td>\n",
       "      <td>39.30</td>\n",
       "      <td>45.10</td>\n",
       "      <td>10.40</td>\n",
       "    </tr>\n",
       "    <tr>\n",
       "      <th>2</th>\n",
       "      <td>17.20</td>\n",
       "      <td>45.90</td>\n",
       "      <td>69.30</td>\n",
       "      <td>12.00</td>\n",
       "    </tr>\n",
       "    <tr>\n",
       "      <th>3</th>\n",
       "      <td>151.50</td>\n",
       "      <td>41.30</td>\n",
       "      <td>58.50</td>\n",
       "      <td>16.50</td>\n",
       "    </tr>\n",
       "    <tr>\n",
       "      <th>4</th>\n",
       "      <td>180.80</td>\n",
       "      <td>10.80</td>\n",
       "      <td>58.40</td>\n",
       "      <td>17.90</td>\n",
       "    </tr>\n",
       "    <tr>\n",
       "      <th>...</th>\n",
       "      <td>...</td>\n",
       "      <td>...</td>\n",
       "      <td>...</td>\n",
       "      <td>...</td>\n",
       "    </tr>\n",
       "    <tr>\n",
       "      <th>195</th>\n",
       "      <td>38.20</td>\n",
       "      <td>3.70</td>\n",
       "      <td>13.80</td>\n",
       "      <td>7.60</td>\n",
       "    </tr>\n",
       "    <tr>\n",
       "      <th>196</th>\n",
       "      <td>94.20</td>\n",
       "      <td>4.90</td>\n",
       "      <td>8.10</td>\n",
       "      <td>14.00</td>\n",
       "    </tr>\n",
       "    <tr>\n",
       "      <th>197</th>\n",
       "      <td>177.00</td>\n",
       "      <td>9.30</td>\n",
       "      <td>6.40</td>\n",
       "      <td>14.80</td>\n",
       "    </tr>\n",
       "    <tr>\n",
       "      <th>198</th>\n",
       "      <td>283.60</td>\n",
       "      <td>42.00</td>\n",
       "      <td>66.20</td>\n",
       "      <td>25.50</td>\n",
       "    </tr>\n",
       "    <tr>\n",
       "      <th>199</th>\n",
       "      <td>232.10</td>\n",
       "      <td>8.60</td>\n",
       "      <td>8.70</td>\n",
       "      <td>18.40</td>\n",
       "    </tr>\n",
       "  </tbody>\n",
       "</table>\n",
       "<p>200 rows × 4 columns</p>\n",
       "</div>"
      ],
      "text/plain": [
       "        TV  Radio  Newspaper  Sales\n",
       "0   230.10  37.80      69.20  22.10\n",
       "1    44.50  39.30      45.10  10.40\n",
       "2    17.20  45.90      69.30  12.00\n",
       "3   151.50  41.30      58.50  16.50\n",
       "4   180.80  10.80      58.40  17.90\n",
       "..     ...    ...        ...    ...\n",
       "195  38.20   3.70      13.80   7.60\n",
       "196  94.20   4.90       8.10  14.00\n",
       "197 177.00   9.30       6.40  14.80\n",
       "198 283.60  42.00      66.20  25.50\n",
       "199 232.10   8.60       8.70  18.40\n",
       "\n",
       "[200 rows x 4 columns]"
      ]
     },
     "execution_count": 2,
     "metadata": {},
     "output_type": "execute_result"
    }
   ],
   "source": [
    "df=pd.read_csv('datasets/advertising.csv')\n",
    "df"
   ]
  },
  {
   "cell_type": "code",
   "execution_count": 14,
   "metadata": {},
   "outputs": [
    {
     "name": "stdout",
     "output_type": "stream",
     "text": [
      "Eğitim Seti: (160, 3)\n",
      "Test Seti : (40, 3)\n"
     ]
    }
   ],
   "source": [
    "X=df.drop('Sales',axis=1)\n",
    "y=df['Sales']\n",
    "\n",
    "X_train, X_test, y_train, y_test = train_test_split(X, y, test_size=0.2, random_state=1)\n",
    "\n",
    "\n",
    "print(\"Eğitim Seti:\",X_train.shape)\n",
    "print(\"Test Seti :\",X_test.shape)\n"
   ]
  },
  {
   "cell_type": "code",
   "execution_count": 16,
   "metadata": {},
   "outputs": [],
   "source": [
    "model=LinearRegression()\n",
    "\n",
    "model.fit(X_train,y_train)\n",
    "\n",
    "y_pred=model.predict(X_test)"
   ]
  },
  {
   "cell_type": "code",
   "execution_count": null,
   "metadata": {},
   "outputs": [
    {
     "data": {
      "text/plain": [
       "4.63762444239792"
      ]
     },
     "execution_count": 17,
     "metadata": {},
     "output_type": "execute_result"
    }
   ],
   "source": [
    "# bias\n",
    "model.intercept_"
   ]
  },
  {
   "cell_type": "code",
   "execution_count": null,
   "metadata": {},
   "outputs": [
    {
     "data": {
      "text/plain": [
       "array([ 0.05507865,  0.10308563, -0.00090115])"
      ]
     },
     "execution_count": 18,
     "metadata": {},
     "output_type": "execute_result"
    }
   ],
   "source": [
    "# weights\n",
    "model.coef_"
   ]
  },
  {
   "cell_type": "code",
   "execution_count": null,
   "metadata": {},
   "outputs": [
    {
     "data": {
      "text/plain": [
       "21.30003740967159"
      ]
     },
     "execution_count": 23,
     "metadata": {},
     "output_type": "execute_result"
    }
   ],
   "source": [
    "# Manuel olarak ilk satırın tahmini \n",
    "first_prediction=model.intercept_ + (model.coef_[0]*df['TV'][0] + model.coef_[1]*df['Radio'][1] + model.coef_[2]*df['Newspaper'][2])\n",
    "first_prediction"
   ]
  },
  {
   "cell_type": "code",
   "execution_count": null,
   "metadata": {},
   "outputs": [
    {
     "data": {
      "text/plain": [
       "1.6704413245680072"
      ]
     },
     "execution_count": 31,
     "metadata": {},
     "output_type": "execute_result"
    }
   ],
   "source": [
    "#Train RMSE\n",
    "y_pred=model.predict(X_train)\n",
    "\n",
    "np.sqrt(mean_squared_error(y_train,y_pred))"
   ]
  },
  {
   "cell_type": "code",
   "execution_count": null,
   "metadata": {},
   "outputs": [
    {
     "data": {
      "text/plain": [
       "0.905486333977187"
      ]
     },
     "execution_count": 33,
     "metadata": {},
     "output_type": "execute_result"
    }
   ],
   "source": [
    "# Train R^2 score\n",
    "model.score(X_train,y_train)"
   ]
  },
  {
   "cell_type": "code",
   "execution_count": 34,
   "metadata": {},
   "outputs": [
    {
     "data": {
      "text/plain": [
       "1.552202825951676"
      ]
     },
     "execution_count": 34,
     "metadata": {},
     "output_type": "execute_result"
    }
   ],
   "source": [
    "#Test RMSE\n",
    "y_pred2=model.predict(X_test)\n",
    "\n",
    "np.sqrt(mean_squared_error(y_test,y_pred2))"
   ]
  },
  {
   "cell_type": "code",
   "execution_count": 36,
   "metadata": {},
   "outputs": [
    {
     "data": {
      "text/plain": [
       "0.8747226291661847"
      ]
     },
     "execution_count": 36,
     "metadata": {},
     "output_type": "execute_result"
    }
   ],
   "source": [
    "# Test R^2 score\n",
    "model.score(X_test,y_test)"
   ]
  },
  {
   "cell_type": "markdown",
   "metadata": {},
   "source": [
    "Çapraz Doğrulama Nedir?\n",
    "\n",
    "Cross-validation (Çapraz doğrulama), makine öğreniminde bir modelin görülmemiş veri üzerindeki performansını değerlendirmek için kullanılan bir tekniktir. Bu teknik, mevcut verilerin birden fazla folds (katman) veya alt kümeye bölünmesini ve bu katmanlardan birinin validation set (doğrulama seti) olarak kullanılmasını içerir. Model, kalan katmanlar üzerinde eğitilir. Bu süreç, her seferinde farklı bir katman doğrulama seti olarak kullanılarak birkaç kez tekrarlanır. Son olarak, her doğrulama adımından elde edilen sonuçlar ortalanarak modelin performansının daha sağlam bir tahmini elde edilir. Çapraz doğrulama, makine öğrenimi sürecinde önemli bir adımdır ve dağıtıma seçilen modelin sağlam olduğundan ve yeni verilere iyi genelleme yaptığından emin olmaya yardımcı olur.\n",
    "\n",
    "CV Ne İçin Kullanılır?\n",
    "\n",
    "Tekniğinin temel amacı, modelin eğitim verilerine aşırı uyum sağladığı ve yeni, görülmemiş verilerde kötü performans gösterdiği overfitting (aşırı uyum) sorununu önlemektir. Modeli birden fazla doğrulama setinde değerlendirerek, çapraz doğrulama modelin genelleme performansının, yani yeni, görülmemiş veriler üzerindeki performansının daha gerçekçi bir tahminini sağlar."
   ]
  },
  {
   "cell_type": "code",
   "execution_count": 50,
   "metadata": {},
   "outputs": [
    {
     "data": {
      "text/plain": [
       "1.658502109162588"
      ]
     },
     "execution_count": 50,
     "metadata": {},
     "output_type": "execute_result"
    }
   ],
   "source": [
    "# Çapraz Doğrulama (10 katlı )\n",
    "np.mean(np.sqrt(-cross_val_score(model,\n",
    "\t\t\t\t\t\t\t\t X,\n",
    "\t\t\t\t\t\t\t\t y,\n",
    "\t\t\t\t\t\t\t\t cv=10,\n",
    "\t\t\t\t\t\t\t\t scoring=\"neg_mean_squared_error\")))"
   ]
  }
 ],
 "metadata": {
  "kernelspec": {
   "display_name": "deneme",
   "language": "python",
   "name": "python3"
  },
  "language_info": {
   "codemirror_mode": {
    "name": "ipython",
    "version": 3
   },
   "file_extension": ".py",
   "mimetype": "text/x-python",
   "name": "python",
   "nbconvert_exporter": "python",
   "pygments_lexer": "ipython3",
   "version": "3.12.5"
  }
 },
 "nbformat": 4,
 "nbformat_minor": 2
}
